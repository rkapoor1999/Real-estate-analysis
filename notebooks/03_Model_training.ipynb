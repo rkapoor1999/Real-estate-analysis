{
 "cells": [
  {
   "cell_type": "code",
   "execution_count": 1,
   "metadata": {},
   "outputs": [],
   "source": [
    "# Real Estate Valuation: Model Selection and Training\n",
    "# ===================================================\n",
    "import pandas as pd\n",
    "from sklearn.model_selection import train_test_split\n",
    "from sklearn.linear_model import LinearRegression, Ridge, Lasso\n",
    "from sklearn.ensemble import RandomForestRegressor, GradientBoostingRegressor\n",
    "from sklearn.metrics import mean_squared_error, r2_score, mean_absolute_error\n",
    "import numpy as np\n",
    "import time\n",
    "import matplotlib.pyplot as plt\n",
    "import seaborn as sns"
   ]
  },
  {
   "cell_type": "code",
   "execution_count": 15,
   "metadata": {},
   "outputs": [],
   "source": [
    "df = pd.read_csv('../data/processed/realtor-data-imputed.csv')"
   ]
  },
  {
   "cell_type": "code",
   "execution_count": 16,
   "metadata": {},
   "outputs": [],
   "source": [
    "X=df.drop(columns=['price_sqrt'])\n",
    "y=df['price_sqrt']"
   ]
  },
  {
   "cell_type": "code",
   "execution_count": 17,
   "metadata": {},
   "outputs": [
    {
     "name": "stdout",
     "output_type": "stream",
     "text": [
      "Feature Importances:\n",
      "price_per_bedroom     1.000000e+00\n",
      "price_per_sqft        2.762410e-09\n",
      "acre_lot_cbrt         5.733998e-10\n",
      "brokered_by           5.235995e-10\n",
      "bed_bath_ratio        4.090479e-10\n",
      "zip_code              4.080366e-10\n",
      "city                  4.057192e-10\n",
      "house_size_log        3.735438e-10\n",
      "efficient_land_use    3.414599e-10\n",
      "street                3.355078e-10\n",
      "bath_log              3.279675e-10\n",
      "average_size_room     2.981321e-10\n",
      "state                 2.691550e-10\n",
      "bed_bath_balance      2.334581e-10\n",
      "status                3.392708e-11\n",
      "bed_log               0.000000e+00\n",
      "dtype: float64\n"
     ]
    }
   ],
   "source": [
    "from sklearn.ensemble import RandomForestRegressor\n",
    "import pandas as pd\n",
    "\n",
    "# Train a Random Forest model\n",
    "rf_model = RandomForestRegressor(n_estimators=50, n_jobs=-1,max_depth=20,random_state=42)\n",
    "rf_model.fit(X, y)\n",
    "\n",
    "# Get feature importances\n",
    "feature_importances = pd.Series(rf_model.feature_importances_, index=X.columns)\n",
    "print(\"Feature Importances:\")\n",
    "print(feature_importances.sort_values(ascending=False))\n",
    "\n",
    "# Set a threshold and drop features below it\n",
    "importance_threshold = 0.01  # Adjust as needed\n",
    "selected_features = feature_importances[feature_importances > importance_threshold].index\n",
    "X_selected = X[selected_features]"
   ]
  },
  {
   "cell_type": "code",
   "execution_count": 18,
   "metadata": {},
   "outputs": [],
   "source": [
    "# Final feature set\n",
    "X_boosting = X[['city','state','bed_log', 'price_per_bedroom', 'bed_bath_ratio', 'bed_bath_balance']]"
   ]
  },
  {
   "cell_type": "code",
   "execution_count": 19,
   "metadata": {},
   "outputs": [],
   "source": [
    "X_train, X_test, y_train, y_test = train_test_split(X_boosting, y, test_size=0.2, random_state=42)"
   ]
  },
  {
   "cell_type": "code",
   "execution_count": 20,
   "metadata": {},
   "outputs": [
    {
     "name": "stdout",
     "output_type": "stream",
     "text": [
      "MSE: 8.162035748394773e-05\n",
      "R2 Score: 0.9999135487037017\n"
     ]
    }
   ],
   "source": [
    "from xgboost import XGBRegressor\n",
    "from sklearn.metrics import mean_squared_error, r2_score\n",
    "\n",
    "# Initialize XGBoost model\n",
    "xgb_model = XGBRegressor(\n",
    "    n_estimators=100,\n",
    "    learning_rate=0.1,\n",
    "    max_depth=6,\n",
    "    random_state=42\n",
    ")\n",
    "\n",
    "# Train\n",
    "xgb_model.fit(X_train, y_train)\n",
    "\n",
    "# Predict\n",
    "y_pred = xgb_model.predict(X_test)\n",
    "\n",
    "# Evaluate\n",
    "print(\"MSE:\", mean_squared_error(y_test, y_pred))\n",
    "print(\"R2 Score:\", r2_score(y_test, y_pred))"
   ]
  },
  {
   "cell_type": "code",
   "execution_count": 56,
   "metadata": {},
   "outputs": [
    {
     "name": "stdout",
     "output_type": "stream",
     "text": [
      "Fitting 5 folds for each of 54 candidates, totalling 270 fits\n",
      "Best Parameters: {'learning_rate': 0.05, 'max_depth': 7, 'n_estimators': 300, 'subsample': 0.8}\n",
      "Best R2 Score: 0.9999214448537493\n"
     ]
    }
   ],
   "source": [
    "from sklearn.model_selection import GridSearchCV\n",
    "\n",
    "param_grid = {\n",
    "    'n_estimators': [100, 200, 300],\n",
    "    'learning_rate': [0.01, 0.05, 0.1],\n",
    "    'max_depth': [3, 5, 7],\n",
    "    'subsample': [0.8, 1.0],\n",
    "}\n",
    "\n",
    "grid_search = GridSearchCV(\n",
    "    estimator=XGBRegressor(random_state=42),\n",
    "    param_grid=param_grid,\n",
    "    scoring='r2',\n",
    "    cv=5,\n",
    "    verbose=1\n",
    ")\n",
    "\n",
    "grid_search.fit(X_train, y_train)\n",
    "print(\"Best Parameters:\", grid_search.best_params_)\n",
    "print(\"Best R2 Score:\", grid_search.best_score_)"
   ]
  },
  {
   "cell_type": "code",
   "execution_count": 21,
   "metadata": {},
   "outputs": [
    {
     "name": "stdout",
     "output_type": "stream",
     "text": [
      "Model saved to ../models/xgb_final_model.json\n",
      "Test Mean Squared Error: 7.764113407914655e-05\n",
      "Test R2 Score: 0.9999177634490448\n",
      "Predictions from loaded model are equal to previous predictions: True\n"
     ]
    }
   ],
   "source": [
    "import xgboost as xgb\n",
    "from xgboost import XGBRegressor\n",
    "from sklearn.metrics import mean_squared_error, r2_score\n",
    "\n",
    "# Define the best hyperparameters based on previous tuning\n",
    "best_params = {\n",
    "    'learning_rate': 0.05,\n",
    "    'max_depth': 7,\n",
    "    'n_estimators': 300,\n",
    "    'subsample': 0.8\n",
    "}\n",
    "\n",
    "# Retrain the model using the best hyperparameters\n",
    "final_model = XGBRegressor(**best_params)\n",
    "final_model.fit(X_train, y_train)\n",
    "\n",
    "# Save the model using Booster's save_model method\n",
    "final_model.get_booster().save_model('../models/xgb_final_model.json')\n",
    "print(\"Model saved to ../models/xgb_final_model.json\")\n",
    "\n",
    "# Predict on the test set using the trained model\n",
    "y_pred = final_model.predict(X_test)\n",
    "\n",
    "# Evaluate performance\n",
    "mse = mean_squared_error(y_test, y_pred)\n",
    "r2 = r2_score(y_test, y_pred)\n",
    "\n",
    "print(f\"Test Mean Squared Error: {mse}\")\n",
    "print(f\"Test R2 Score: {r2}\")\n",
    "\n",
    "# Load the model using Booster's load_model method\n",
    "loaded_model = XGBRegressor()\n",
    "loaded_model.load_model('../models/xgb_final_model.json')\n",
    "\n",
    "# Predict again to verify consistency\n",
    "y_pred_loaded = loaded_model.predict(X_test)\n",
    "\n",
    "# Check if predictions are identical\n",
    "print(f\"Predictions from loaded model are equal to previous predictions: {all(y_pred == y_pred_loaded)}\")"
   ]
  },
  {
   "cell_type": "code",
   "execution_count": 60,
   "metadata": {},
   "outputs": [
    {
     "name": "stdout",
     "output_type": "stream",
     "text": [
      "Fixed encoders saved successfully!\n"
     ]
    }
   ],
   "source": [
    "import joblib\n",
    "from sklearn.preprocessing import LabelEncoder\n",
    "\n",
    "# Load the incorrect encoders (which are dictionaries)\n",
    "city_dict = joblib.load(\"../encoders/city_encoder.pkl\")\n",
    "state_dict = joblib.load(\"../encoders/state_encoder.pkl\")\n",
    "\n",
    "# Convert dictionary to LabelEncoder\n",
    "city_encoder = LabelEncoder()\n",
    "state_encoder = LabelEncoder()\n",
    "\n",
    "# Fit the encoders with the original mapping\n",
    "city_encoder.classes_ = list(city_dict.keys())  # Restore labels\n",
    "state_encoder.classes_ = list(state_dict.keys())\n",
    "\n",
    "# Save the fixed encoders\n",
    "joblib.dump(city_encoder, \"../encoders/city_encoder_fixed.pkl\")\n",
    "joblib.dump(state_encoder, \"../encoders/state_encoder_fixed.pkl\")\n",
    "\n",
    "print(\"Fixed encoders saved successfully!\")"
   ]
  }
 ],
 "metadata": {
  "kernelspec": {
   "display_name": "Python 3",
   "language": "python",
   "name": "python3"
  },
  "language_info": {
   "codemirror_mode": {
    "name": "ipython",
    "version": 3
   },
   "file_extension": ".py",
   "mimetype": "text/x-python",
   "name": "python",
   "nbconvert_exporter": "python",
   "pygments_lexer": "ipython3",
   "version": "3.11.9"
  }
 },
 "nbformat": 4,
 "nbformat_minor": 2
}
